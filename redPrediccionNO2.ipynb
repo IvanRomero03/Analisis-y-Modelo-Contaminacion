{
 "cells": [
  {
   "cell_type": "code",
   "execution_count": 2,
   "metadata": {},
   "outputs": [],
   "source": [
    "import tensorflow as tf\n",
    "import numpy as np\n",
    "import pandas as pd\n",
    "import matplotlib.pyplot as plt\n",
    "import csv"
   ]
  },
  {
   "cell_type": "code",
   "execution_count": 2,
   "metadata": {},
   "outputs": [],
   "source": [
    "with open('DFDateTime.csv', 'r') as f:\n",
    "    reader = csv.reader(f)\n",
    "    data = list(reader)"
   ]
  },
  {
   "cell_type": "code",
   "execution_count": 3,
   "metadata": {},
   "outputs": [],
   "source": [
    "y = np.array([float(i[-1]) for i in data[1:-1]])"
   ]
  },
  {
   "cell_type": "code",
   "execution_count": 4,
   "metadata": {},
   "outputs": [
    {
     "data": {
      "text/plain": [
       "array([[36., 38., 40.],\n",
       "       [38., 40., 38.],\n",
       "       [40., 38., 35.],\n",
       "       ...,\n",
       "       [32., 37., 34.],\n",
       "       [37., 34., 16.],\n",
       "       [34., 16., 28.]])"
      ]
     },
     "execution_count": 4,
     "metadata": {},
     "output_type": "execute_result"
    }
   ],
   "source": [
    "list3elements = []\n",
    "for i in range(len(y) - 3):\n",
    "    list3elements.append([float(y[i]), float(y[i+1]), float(y[i+2])])\n",
    "list3elements = np.array(list3elements)\n",
    "list3elements"
   ]
  },
  {
   "cell_type": "code",
   "execution_count": 5,
   "metadata": {},
   "outputs": [],
   "source": [
    "y = y[3:]"
   ]
  },
  {
   "cell_type": "code",
   "execution_count": 6,
   "metadata": {},
   "outputs": [
    {
     "name": "stdout",
     "output_type": "stream",
     "text": [
      "7594\n",
      "7594\n"
     ]
    }
   ],
   "source": [
    "print(len(y))\n",
    "print(len(list3elements))"
   ]
  },
  {
   "cell_type": "code",
   "execution_count": 7,
   "metadata": {},
   "outputs": [
    {
     "name": "stdout",
     "output_type": "stream",
     "text": [
      "[36. 38. 40.]\n",
      "38.0\n",
      "[34. 16. 28.]\n",
      "46.0\n"
     ]
    }
   ],
   "source": [
    "print(list3elements[0])\n",
    "print(y[0])\n",
    "print(list3elements[-1])\n",
    "print(y[-1])\n"
   ]
  },
  {
   "cell_type": "code",
   "execution_count": 8,
   "metadata": {},
   "outputs": [
    {
     "data": {
      "image/png": "[encoded data removed]",
      "text/plain": [
       "<Figure size 432x288 with 1 Axes>"
      ]
     },
     "metadata": {
      "needs_background": "light"
     },
     "output_type": "display_data"
    }
   ],
   "source": [
    "plt.plot(y)\n",
    "plt.show()"
   ]
  },
  {
   "cell_type": "code",
   "execution_count": 9,
   "metadata": {},
   "outputs": [],
   "source": [
    "model = tf.keras.Sequential()\n",
    "model.add(tf.keras.layers.Normalization(input_shape=([3]))) \n",
    "model.add(tf.keras.layers.Dense(units=64, activation='relu'))\n",
    "model.add( tf.keras.layers.Dropout(0.2) )\n",
    "model.add(tf.keras.layers.Dense(units=32, activation='relu'))\n",
    "model.add( tf.keras.layers.Dropout(0.2) )\n",
    "model.add(tf.keras.layers.Dense(units=1))\n",
    "model.compile(optimizer=tf.keras.optimizers.RMSprop(0.01), loss='mean_squared_error', metrics=['accuracy'])"
   ]
  },
  {
   "cell_type": "code",
   "execution_count": 19,
   "metadata": {},
   "outputs": [
    {
     "name": "stdout",
     "output_type": "stream",
     "text": [
      "Model: \"sequential\"\n",
      "_________________________________________________________________\n",
      " Layer (type)                Output Shape              Param #   \n",
      "=================================================================\n",
      " normalization (Normalizatio  (None, 3)                7         \n",
      " n)                                                              \n",
      "                                                                 \n",
      " dense (Dense)               (None, 64)                256       \n",
      "                                                                 \n",
      " dropout (Dropout)           (None, 64)                0         \n",
      "                                                                 \n",
      " dense_1 (Dense)             (None, 32)                2080      \n",
      "                                                                 \n",
      " dropout_1 (Dropout)         (None, 32)                0         \n",
      "                                                                 \n",
      " dense_2 (Dense)             (None, 1)                 33        \n",
      "                                                                 \n",
      "=================================================================\n",
      "Total params: 2,376\n",
      "Trainable params: 2,369\n",
      "Non-trainable params: 7\n",
      "_________________________________________________________________\n"
     ]
    }
   ],
   "source": [
    "model.summary()"
   ]
  },
  {
   "cell_type": "code",
   "execution_count": 4,
   "metadata": {},
   "outputs": [
    {
     "data": {
      "image/png": "[encoded data removed]",
      "text/plain": [
       "<IPython.core.display.Image object>"
      ]
     },
     "execution_count": 4,
     "metadata": {},
     "output_type": "execute_result"
    }
   ],
   "source": [
    "tf.keras.utils.plot_model(model)"
   ]
  },
  {
   "cell_type": "code",
   "execution_count": 11,
   "metadata": {},
   "outputs": [
    {
     "name": "stdout",
     "output_type": "stream",
     "text": [
      "Epoch 1/10\n",
      "950/950 [==============================] - 3s 3ms/step - loss: 56.4553 - accuracy: 0.0000e+00\n",
      "Epoch 2/10\n",
      "950/950 [==============================] - 3s 3ms/step - loss: 56.5108 - accuracy: 0.0000e+00\n",
      "Epoch 3/10\n",
      "950/950 [==============================] - 3s 3ms/step - loss: 56.0191 - accuracy: 0.0000e+00\n",
      "Epoch 4/10\n",
      "950/950 [==============================] - 3s 3ms/step - loss: 55.9652 - accuracy: 0.0000e+00\n",
      "Epoch 5/10\n",
      "950/950 [==============================] - 3s 3ms/step - loss: 56.2350 - accuracy: 0.0000e+00\n",
      "Epoch 6/10\n",
      "950/950 [==============================] - 3s 3ms/step - loss: 53.9926 - accuracy: 0.0000e+00\n",
      "Epoch 7/10\n",
      "950/950 [==============================] - 3s 3ms/step - loss: 56.0141 - accuracy: 0.0000e+00\n",
      "Epoch 8/10\n",
      "950/950 [==============================] - 3s 3ms/step - loss: 56.1012 - accuracy: 0.0000e+00\n",
      "Epoch 9/10\n",
      "950/950 [==============================] - 3s 3ms/step - loss: 55.4518 - accuracy: 0.0000e+00\n",
      "Epoch 10/10\n",
      "950/950 [==============================] - 3s 3ms/step - loss: 56.1796 - accuracy: 0.0000e+00\n"
     ]
    }
   ],
   "source": [
    "history = model.fit(list3elements,y, epochs=10, batch_size=8)"
   ]
  },
  {
   "cell_type": "code",
   "execution_count": null,
   "metadata": {},
   "outputs": [],
   "source": [
    "e = []\n",
    "for i in range(len(y)):\n",
    "    e.append((model.predict(list3elements[i]) - y[i])**2)\n",
    "print(e)"
   ]
  },
  {
   "cell_type": "code",
   "execution_count": 15,
   "metadata": {},
   "outputs": [
    {
     "name": "stdout",
     "output_type": "stream",
     "text": [
      "[[361936.9]]\n"
     ]
    }
   ],
   "source": [
    "sum = 0\n",
    "for i in range(len(e)):\n",
    "    sum = sum + e[i]\n",
    "print(sum)\n"
   ]
  },
  {
   "cell_type": "markdown",
   "metadata": {},
   "source": [
    "Error de 361936.9"
   ]
  },
  {
   "cell_type": "code",
   "execution_count": 18,
   "metadata": {},
   "outputs": [],
   "source": [
    "model.save('model.h5')"
   ]
  },
  {
   "cell_type": "code",
   "execution_count": 3,
   "metadata": {},
   "outputs": [],
   "source": [
    "## read the model\n",
    "model = tf.keras.models.load_model('model.h5')"
   ]
  }
 ],
 "metadata": {
  "interpreter": {
   "hash": "9c487e83b895f07d026065d0de5a88f2a877ca872fa831040068e665f3973132"
  },
  "kernelspec": {
   "display_name": "Python 3.9.8 64-bit (windows store)",
   "language": "python",
   "name": "python3"
  },
  "language_info": {
   "codemirror_mode": {
    "name": "ipython",
    "version": 3
   },
   "file_extension": ".py",
   "mimetype": "text/x-python",
   "name": "python",
   "nbconvert_exporter": "python",
   "pygments_lexer": "ipython3",
   "version": "3.9.10"
  },
  "orig_nbformat": 4
 },
 "nbformat": 4,
 "nbformat_minor": 2
}
